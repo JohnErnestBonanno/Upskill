{
 "cells": [
  {
   "cell_type": "markdown",
   "id": "66054ef6-3a3b-4c35-a3fc-e674fe87b444",
   "metadata": {},
   "source": [
    "Pyjanitor Exploration"
   ]
  },
  {
   "cell_type": "code",
   "execution_count": 1,
   "id": "e55f496c-b3b9-4f7b-aa4f-e93bce3a5b92",
   "metadata": {},
   "outputs": [],
   "source": [
    "# Libraries\n",
    "import numpy as np\n",
    "import pandas as pd\n",
    "import janitor\n",
    "\n",
    "# Sample Data\n",
    "company_sales = {\n",
    "    'SalesMonth': ['Jan', 'Feb', 'Mar', 'April'],\n",
    "    'Company1': [150.0, 200.0, 300.0, 400.0],\n",
    "    'Company2': [180.0, 250.0, np.nan, 500.0],\n",
    "    'Company3': [400.0, 500.0, 600.0, 675.0]\n",
    "}"
   ]
  },
  {
   "cell_type": "code",
   "execution_count": 2,
   "id": "3ca03483-095f-47a2-bfda-50fd93a76b7a",
   "metadata": {},
   "outputs": [
    {
     "data": {
      "text/plain": [
       "{'SalesMonth': ['Jan', 'Feb', 'Mar', 'April'],\n",
       " 'Company1': [150.0, 200.0, 300.0, 400.0],\n",
       " 'Company2': [180.0, 250.0, nan, 500.0],\n",
       " 'Company3': [400.0, 500.0, 600.0, 675.0]}"
      ]
     },
     "execution_count": 2,
     "metadata": {},
     "output_type": "execute_result"
    }
   ],
   "source": [
    "company_sales"
   ]
  },
  {
   "cell_type": "code",
   "execution_count": 3,
   "id": "30c47856-5628-4c1f-a242-e9e0339cc23f",
   "metadata": {},
   "outputs": [
    {
     "name": "stdout",
     "output_type": "stream",
     "text": [
      "Hello World\n"
     ]
    }
   ],
   "source": [
    "print(\"Hello World\")"
   ]
  },
  {
   "cell_type": "code",
   "execution_count": null,
   "id": "fe077000-d995-4be8-aea8-e75adabced98",
   "metadata": {},
   "outputs": [],
   "source": []
  }
 ],
 "metadata": {
  "kernelspec": {
   "display_name": "Python 3 (ipykernel)",
   "language": "python",
   "name": "python3"
  },
  "language_info": {
   "codemirror_mode": {
    "name": "ipython",
    "version": 3
   },
   "file_extension": ".py",
   "mimetype": "text/x-python",
   "name": "python",
   "nbconvert_exporter": "python",
   "pygments_lexer": "ipython3",
   "version": "3.9.13"
  }
 },
 "nbformat": 4,
 "nbformat_minor": 5
}
