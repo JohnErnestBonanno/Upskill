{
 "cells": [
  {
   "cell_type": "markdown",
   "id": "9731b262-aee6-4e5c-a10b-6ac09cdf4c28",
   "metadata": {},
   "source": [
    "Code Like a Journalist\n",
    "\n",
    "[Chapter 1 First Steps](https://www.code-like-a-journalist.com/en/preamble)"
   ]
  },
  {
   "cell_type": "markdown",
   "id": "ace4f25a-202d-4263-9aaa-caae0b5f96ed",
   "metadata": {},
   "source": [
    "Notes: \n",
    "* Argues to learn TypeScript to publish JavaScript directly to the web\n",
    "    * Two backgrounds:\n",
    "        * Journalism: \"Journalists ask questions of public interest, seek factual answers, and then explain their findings to the public.\"\n",
    "        * Data Analysis: \"Showing that you’re motivated to answer important questions with a sound methodology is key\"\n"
   ]
  },
  {
   "cell_type": "markdown",
   "id": "49fda1c9-aa3f-4472-8567-b73937a7f6ac",
   "metadata": {},
   "source": []
  }
 ],
 "metadata": {
  "kernelspec": {
   "display_name": "Python 3 (ipykernel)",
   "language": "python",
   "name": "python3"
  },
  "language_info": {
   "codemirror_mode": {
    "name": "ipython",
    "version": 3
   },
   "file_extension": ".py",
   "mimetype": "text/x-python",
   "name": "python",
   "nbconvert_exporter": "python",
   "pygments_lexer": "ipython3",
   "version": "3.9.13"
  }
 },
 "nbformat": 4,
 "nbformat_minor": 5
}
